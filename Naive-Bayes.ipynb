{
  "nbformat": 4,
  "nbformat_minor": 0,
  "metadata": {
    "colab": {
      "provenance": [],
      "authorship_tag": "ABX9TyOI9ykXWpNH+aAwtxKIoDY5",
      "include_colab_link": true
    },
    "kernelspec": {
      "name": "python3",
      "display_name": "Python 3"
    },
    "language_info": {
      "name": "python"
    }
  },
  "cells": [
    {
      "cell_type": "markdown",
      "metadata": {
        "id": "view-in-github",
        "colab_type": "text"
      },
      "source": [
        "<a href=\"https://colab.research.google.com/github/di-claro-batera/faculdade_data_science/blob/main/Naive-Bayes.ipynb\" target=\"_parent\"><img src=\"https://colab.research.google.com/assets/colab-badge.svg\" alt=\"Open In Colab\"/></a>"
      ]
    },
    {
      "cell_type": "code",
      "execution_count": 9,
      "metadata": {
        "colab": {
          "base_uri": "https://localhost:8080/"
        },
        "id": "YB0RJi5ChI0L",
        "outputId": "b209e943-0820-48f7-9239-0e48046d1474"
      },
      "outputs": [
        {
          "output_type": "stream",
          "name": "stdout",
          "text": [
            "Acurácia do modelo: 0.75\n",
            "seguro\n"
          ]
        }
      ],
      "source": [
        "import pandas as pd\n",
        "from sklearn.model_selection import train_test_split\n",
        "from sklearn.naive_bayes import CategoricalNB\n",
        "from sklearn.metrics import accuracy_score\n",
        "from sklearn.preprocessing import LabelEncoder\n",
        "\n",
        "# Dados fornecidos\n",
        "data = {\n",
        "    'Pele': ['peluda', 'peluda', 'lisa', 'peluda', 'peluda', 'lisa', 'lisa', 'peluda', 'lisa', 'lisa', 'peluda', 'lisa', 'lisa', 'peluda', 'lisa', 'lisa', 'peluda', 'lisa', 'peluda'],\n",
        "    'Cor': ['marrom', 'verde', 'vermelha', 'verde', 'vermelha', 'vermelha', 'marrom', 'verde', 'verde', 'vermelha', 'verde', 'vermelha', 'vermelha', 'vermelha', 'marrom', 'verde', 'vermelha', 'vermelha', 'verde'],\n",
        "    'Tamanho': ['grande', 'grande', 'grande', 'grande', 'pequeno', 'pequeno', 'pequeno', 'pequeno', 'pequeno', 'grande', 'pequeno', 'grande', 'pequeno', 'grande', 'grande', 'pequeno', 'pequeno', 'grande', 'pequeno'],\n",
        "    'Carne': ['dura', 'dura', 'macia', 'macia', 'dura', 'dura', 'dura', 'macia', 'dura', 'macia', 'macia', 'dura', 'dura', 'dura', 'macia', 'macia', 'macia', 'dura', 'dura'],\n",
        "    'Classe': ['seguro', 'seguro', 'perigoso', 'seguro', 'seguro', 'seguro', 'seguro', 'perigoso', 'perigoso', 'seguro', 'perigoso', 'seguro', 'perigoso', 'seguro', 'seguro', 'seguro', 'seguro', 'perigoso', 'seguro']\n",
        "}\n",
        "df = pd.DataFrame(data)\n",
        "\n",
        "# Criar um LabelEncoder para cada coluna\n",
        "le_dict = {col: LabelEncoder() for col in ['Pele', 'Cor', 'Tamanho', 'Carne', 'Classe']}\n",
        "\n",
        "# Aplicar LabelEncoder a cada coluna\n",
        "for col in le_dict:\n",
        "    df[col] = le_dict[col].fit_transform(df[col])\n",
        "\n",
        "# Separar características (X) e rótulos (y)\n",
        "X = df.drop('Classe', axis=1)\n",
        "y = df['Classe']\n",
        "\n",
        "# Dividir os dados em conjuntos de treinamento e teste\n",
        "X_train, X_test, y_train, y_test = train_test_split(X, y, test_size=0.2, random_state=42)\n",
        "\n",
        "# Criar e treinar o modelo Naive-Bayes\n",
        "model = CategoricalNB()\n",
        "model.fit(X_train, y_train)\n",
        "\n",
        "# Fazer previsões no conjunto de teste\n",
        "y_pred = model.predict(X_test)\n",
        "\n",
        "# Avaliar a precisão do modelo\n",
        "accuracy = accuracy_score(y_test, y_pred)\n",
        "print(f\"Acurácia do modelo: {accuracy}\")\n",
        "\n",
        "# Função para prever a segurança de um novo animal\n",
        "def prever_seguranca(pele, cor, tamanho, carne):\n",
        "    # Converter entradas para representação numérica usando os LabelEncoders corretos\n",
        "    pele_num = le_dict['Pele'].transform([pele])[0]\n",
        "    cor_num = le_dict['Cor'].transform([cor])[0]\n",
        "    tamanho_num = le_dict['Tamanho'].transform([tamanho])[0]\n",
        "    carne_num = le_dict['Carne'].transform([carne])[0]\n",
        "\n",
        "    # Fazer a previsão\n",
        "    nova_amostra = pd.DataFrame({'Pele': [pele_num], 'Cor': [cor_num], 'Tamanho': [tamanho_num], 'Carne': [carne_num]})\n",
        "    predicao = model.predict(nova_amostra)[0]\n",
        "\n",
        "    # Converter a previsão de volta para a representação original\n",
        "    classe_predita = le_dict['Classe'].inverse_transform([predicao])[0]\n",
        "    return classe_predita\n",
        "\n",
        "# Exemplo de uso:\n",
        "print(prever_seguranca('peluda', 'verde', 'pequeno', 'dura'))"
      ]
    }
  ]
}