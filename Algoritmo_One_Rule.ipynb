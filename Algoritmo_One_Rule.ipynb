{
  "nbformat": 4,
  "nbformat_minor": 0,
  "metadata": {
    "colab": {
      "provenance": [],
      "authorship_tag": "ABX9TyM1TDT8g4TP9V1L5U0iZnqu",
      "include_colab_link": true
    },
    "kernelspec": {
      "name": "python3",
      "display_name": "Python 3"
    },
    "language_info": {
      "name": "python"
    }
  },
  "cells": [
    {
      "cell_type": "markdown",
      "metadata": {
        "id": "view-in-github",
        "colab_type": "text"
      },
      "source": [
        "<a href=\"https://colab.research.google.com/github/di-claro-batera/faculdade_data_science/blob/main/Algoritmo_One_Rule.ipynb\" target=\"_parent\"><img src=\"https://colab.research.google.com/assets/colab-badge.svg\" alt=\"Open In Colab\"/></a>"
      ]
    },
    {
      "cell_type": "code",
      "execution_count": 9,
      "metadata": {
        "id": "Ag4Ftk2ztvlB"
      },
      "outputs": [],
      "source": [
        "import os\n",
        "import sys\n",
        "import pandas as pd"
      ]
    },
    {
      "cell_type": "code",
      "source": [
        "tot_aspecto_SIM = [0,0,0] #tot_Sol, tot_Nuvens, tot_Chuva\n",
        "tot_aspecto_NAO = [0,0,0] #tot_Sol, tot_Nuvens, tot_Chuva\n",
        "tot_temperatura_SIM = [0,0,0] #tot_quente, tot_ameno, tot_fresco\n",
        "tot_temperatura_NAO = [0,0,0] #tot_quente, tot_ameno, tot_fresco\n",
        "tot_humidade_SIM = [0,0,0] #tot_elevada, tot_normal, tot_baixa\n",
        "tot_humidade_NAO = [0,0,0] #tot_elevada, tot_normal, tot_baixa\n",
        "tot_vento_SIM = [0,0,0] #tot_forte, tot_medio, tot_fraco\n",
        "tot_vento_NAO = [0,0,0] #tot_forte, tot_medio, tot_fraco\n",
        "\n",
        "tx_erro_aspecto = 0\n",
        "tx_erro_temperatura = 0\n",
        "tx_erro_humidade = 0\n",
        "tx_erro_vento = 0\n",
        "\n",
        "regras_aspecto = \"\"\n",
        "regras_temperatura = \"\"\n",
        "regras_humidade = \"\"\n",
        "regras_vento = \"\"\n",
        "tx_erro_menor = 9999\n",
        "tot_exemplos = 0"
      ],
      "metadata": {
        "id": "RpwullxYvexV"
      },
      "execution_count": 10,
      "outputs": []
    },
    {
      "cell_type": "code",
      "source": [
        "df_entrada = pd.read_csv('one-rule-jogo.csv')\n",
        "print(df_entrada)"
      ],
      "metadata": {
        "colab": {
          "base_uri": "https://localhost:8080/"
        },
        "id": "J0zQH2nn2mH_",
        "outputId": "41c271e9-e575-4984-915f-7e11f7fd9ef1"
      },
      "execution_count": 11,
      "outputs": [
        {
          "output_type": "stream",
          "name": "stdout",
          "text": [
            "    dia aspecto temperatura  umidade  vento jogar\n",
            "0    D1     Sol      Quente  Elevada  Fraco   Nao\n",
            "1    D2     Sol      Quente  Elevada  Forte   Nao\n",
            "2    D3  Nuvens      Quente  Elevada  Fraco   Sim\n",
            "3    D4   Chuva       Ameno  Elevada  Fraco   Sim\n",
            "4    D5   Chuva      Fresco   Normal  Fraco   Sim\n",
            "5    D6   Chuva      Fresco   Normal  Forte   Nao\n",
            "6    D7  Nuvens      Fresco   Normal  Fraco   Sim\n",
            "7    D8     Sol       Ameno  Elevada  Fraco   Nao\n",
            "8    D9     Sol      Fresco   Normal  Fraco   Sim\n",
            "9   D10   Chuva       Ameno   Normal  Forte   Sim\n",
            "10  D11     Sol       Ameno   Normal  Forte   Sim\n",
            "11  D12  Nuvens       Ameno  Elevada  Forte   Sim\n",
            "12  D13  Nuvens      Quente   Normal  Fraco   Sim\n",
            "13  D14   Chuva       Ameno  Elevada  Forte   Nao\n"
          ]
        }
      ]
    },
    {
      "cell_type": "code",
      "source": [
        "print(\"Lendo a base de entrada...\")\n",
        "rows = df_entrada.values\n",
        "tot_exemplos = 0\n",
        "for r in rows:\n",
        "    tot_exemplos = tot_exemplos + 1\n",
        "    dia = r[0]\n",
        "    aspecto = r[1]\n",
        "    temperatura = r[2]\n",
        "    humidade = r[3]\n",
        "    vento = r[4]\n",
        "    jogar = r[5]\n",
        "    #print(\"Dia:\",dia, \"Aspecto:\",aspecto, \"Temperatura:\",temperatura, \"Humidade:\",humidade, \"Vento:\",vento, \"Jogar=\",jogar)\n",
        "    #print(\"-------------------------------------------\")\n",
        "    if aspecto == \"Sol\":\n",
        "      if jogar ==\"Sim\":\n",
        "        tot_aspecto_SIM[0] = tot_aspecto_SIM[0] + 1\n",
        "      else:\n",
        "        tot_aspecto_NAO[0] = tot_aspecto_NAO[0] + 1\n",
        "    if aspecto == \"Nuvens\":\n",
        "      if jogar ==\"Sim\":\n",
        "        tot_aspecto_SIM[1] = tot_aspecto_SIM[1] + 1\n",
        "      else:\n",
        "        tot_aspecto_NAO[1] = tot_aspecto_NAO[1] + 1\n",
        "    if aspecto == \"Chuva\":\n",
        "      if jogar ==\"Sim\":\n",
        "        tot_aspecto_SIM[2] = tot_aspecto_SIM[2] + 1\n",
        "      else:\n",
        "        tot_aspecto_NAO[2] = tot_aspecto_NAO[2] + 1\n",
        "\n",
        "    if temperatura == \"Quente\":\n",
        "      if jogar ==\"Sim\":\n",
        "        tot_temperatura_SIM[0] = tot_temperatura_SIM[0] + 1\n",
        "      else:\n",
        "        tot_temperatura_NAO[0] = tot_temperatura_NAO[0] + 1\n",
        "    if temperatura == \"Ameno\":\n",
        "      if jogar ==\"Sim\":\n",
        "        tot_temperatura_SIM[1] = tot_temperatura_SIM[1] + 1\n",
        "      else:\n",
        "        tot_temperatura_NAO[1] = tot_temperatura_NAO[1] + 1\n",
        "    if temperatura == \"Fresco\":\n",
        "      if jogar ==\"Sim\":\n",
        "        tot_temperatura_SIM[2] = tot_temperatura_SIM[2] + 1\n",
        "      else:\n",
        "        tot_temperatura_NAO[2] = tot_temperatura_NAO[2] + 1\n",
        "\n",
        "    if humidade == \"Elevada\":\n",
        "      if jogar ==\"Sim\":\n",
        "        tot_humidade_SIM[0] = tot_humidade_SIM[0] + 1\n",
        "      else:\n",
        "        tot_humidade_NAO[0] = tot_humidade_NAO[0] + 1\n",
        "    if humidade == \"Normal\":\n",
        "      if jogar ==\"Sim\":\n",
        "        tot_humidade_SIM[1] = tot_humidade_SIM[1] + 1\n",
        "      else:\n",
        "        tot_humidade_NAO[1] = tot_humidade_NAO[1] + 1\n",
        "    if humidade == \"Baixa\":\n",
        "      if jogar ==\"Sim\":\n",
        "        tot_humidade_SIM[2] = tot_humidade_SIM[2] + 1\n",
        "      else:\n",
        "        tot_humidade_NAO[2] = tot_humidade_NAO[2] + 1\n",
        "    if vento == \"Forte\":\n",
        "      if jogar ==\"Sim\":\n",
        "        tot_vento_SIM[0] = tot_vento_SIM[0] + 1\n",
        "      else:\n",
        "        tot_vento_NAO[0] = tot_vento_NAO[0] + 1\n",
        "    if vento == \"Medio\":\n",
        "      if jogar ==\"Sim\":\n",
        "        tot_vento_SIM[1] = tot_vento_SIM[1] + 1\n",
        "      else:\n",
        "        tot_vento_NAO[1] = tot_vento_NAO[1] + 1\n",
        "    if vento == \"Fraco\":\n",
        "      if jogar ==\"Sim\":\n",
        "        tot_vento_SIM[2] = tot_vento_SIM[2] + 1\n",
        "      else:\n",
        "        tot_vento_NAO[2] = tot_vento_NAO[2] + 1\n",
        "\n",
        "print(\"Total de exemplos= \", tot_exemplos)"
      ],
      "metadata": {
        "colab": {
          "base_uri": "https://localhost:8080/"
        },
        "id": "6MACLQsK3HjG",
        "outputId": "06645d9b-4522-453a-ccd5-09505b47f40a"
      },
      "execution_count": 12,
      "outputs": [
        {
          "output_type": "stream",
          "name": "stdout",
          "text": [
            "Lendo a base de entrada...\n",
            "Total de exemplos=  14\n"
          ]
        }
      ]
    },
    {
      "cell_type": "code",
      "source": [
        "print(\"Identificando as regras para o atributo Aspecto...\")\n",
        "if tot_aspecto_SIM[0] >= tot_aspecto_NAO[0]:\n",
        "  print(\"Se Sol então Joga\")\n",
        "  tx_erro_aspecto = tx_erro_aspecto + tot_aspecto_NAO[0]\n",
        "  regras_aspecto = regras_aspecto + \"Se Sol então Joga;\"\n",
        "else:\n",
        "  print(\"Se Sol então Não Joga\")\n",
        "  tx_erro_aspecto = tx_erro_aspecto + tot_aspecto_SIM[0]\n",
        "  regras_aspecto = regras_aspecto + \"Se Sol então Não Joga;\"\n",
        "\n",
        "if tot_aspecto_SIM[1] >= tot_aspecto_NAO[1]:\n",
        "  print(\"Se Nuvens então Joga\")\n",
        "  tx_erro_aspecto = tx_erro_aspecto + tot_aspecto_NAO[1]\n",
        "  regras_aspecto = regras_aspecto + \"Se Nuvens então Joga;\"\n",
        "else:\n",
        "  print(\"Se Nuvens então Não Joga\")\n",
        "  tx_erro_aspecto = tx_erro_aspecto + tot_aspecto_SIM[1]\n",
        "  regras_aspecto = regras_aspecto + \"Se Nuvens então Não Joga;\"\n",
        "\n",
        "if tot_aspecto_SIM[2] >= tot_aspecto_NAO[2]:\n",
        "  print(\"Se Chuva então Joga\")\n",
        "  tx_erro_aspecto = tx_erro_aspecto + tot_aspecto_NAO[2]\n",
        "  regras_aspecto = regras_aspecto + \"Se Chuva então Joga;\"\n",
        "else:\n",
        "  print(\"Se Chuva então Não Joga\")\n",
        "  tx_erro_aspecto = tx_erro_aspecto + tot_aspecto_SIM[2]\n",
        "  regras_aspecto = regras_aspecto + \"Se Chuva então Não Joga;\"\n",
        "\n",
        "print(\"Taxa de erro do atributo Aspecto = \", tx_erro_aspecto/tot_exemplos)\n",
        "if tx_erro_aspecto < tx_erro_menor:\n",
        "  tx_erro_menor = tx_erro_aspecto\n",
        "  conjunto_regras = \"Aspecto\"\n"
      ],
      "metadata": {
        "colab": {
          "base_uri": "https://localhost:8080/"
        },
        "id": "LYah2CBh7vMT",
        "outputId": "25ce1e46-b758-4115-cf38-de9e0f4e25e0"
      },
      "execution_count": 13,
      "outputs": [
        {
          "output_type": "stream",
          "name": "stdout",
          "text": [
            "Identificando as regras para o atributo Aspecto...\n",
            "Se Sol então Não Joga\n",
            "Se Nuvens então Joga\n",
            "Se Chuva então Joga\n",
            "Taxa de erro do atributo Aspecto =  0.2857142857142857\n"
          ]
        }
      ]
    },
    {
      "cell_type": "code",
      "source": [
        "print(\"Identificando as regras para o atributo Temperatura...\")\n",
        "if tot_temperatura_SIM[0] >= tot_temperatura_NAO[0]:\n",
        "  print(\"Se Quente então joga\")\n",
        "  tx_erro_temperatura = tx_erro_temperatura + tot_temperatura_NAO[0]\n",
        "  regras_temperatura = regras_temperatura + \"Se Quente joga;\"\n",
        "else:\n",
        "  print(\"Se Quente então não joga\")\n",
        "  tx_erro_temperatura = tx_erro_temperatura + tot_temperatura_SIM[0]\n",
        "  regras_temperatura = regras_temperatura + \"Se Quente não joga;\"\n",
        "\n",
        "if tot_temperatura_SIM[1] >= tot_temperatura_NAO[1]:\n",
        "  print(\"Se Ameno então joga\")\n",
        "  tx_erro_temperatura = tx_erro_temperatura + tot_temperatura_NAO[1]\n",
        "  regras_temperatura = regras_temperatura + \"Se Ameno joga;\"\n",
        "else:\n",
        "  print(\"Se Ameno então não joga\")\n",
        "  tx_erro_temperatura = tx_erro_temperatura + tot_temperatura_SIM[1]\n",
        "  regras_temperatura = regras_temperatura + \"Se Ameno não joga;\"\n",
        "\n",
        "if tot_temperatura_SIM[2] >= tot_temperatura_NAO[2]:\n",
        "  print(\"Se Fresco então joga\")\n",
        "  tx_erro_temperatura = tx_erro_temperatura + tot_temperatura_NAO[2]\n",
        "  regras_temperatura = regras_temperatura + \"Se Fresco joga;\"\n",
        "else:\n",
        "  print(\"Se Fresco então não joga\")\n",
        "  tx_erro_temperatura = tx_erro_temperatura + tot_temperatura_SIM[2]\n",
        "  regras_temperatura = regras_temperatura + \"Se Fresco não joga;\"\n",
        "\n",
        "print(\"Taxa de erro do atributo Temperatura = \", tx_erro_temperatura/tot_exemplos)\n",
        "if tx_erro_temperatura < tx_erro_menor:\n",
        "  tx_erro_menor = tx_erro_temperatura\n",
        "  conjunto_regras = \"Temperatura\""
      ],
      "metadata": {
        "colab": {
          "base_uri": "https://localhost:8080/"
        },
        "id": "fndTv5EM-zJL",
        "outputId": "46423fbb-4aad-48fc-bb82-d48fe51624af"
      },
      "execution_count": 14,
      "outputs": [
        {
          "output_type": "stream",
          "name": "stdout",
          "text": [
            "Identificando as regras para o atributo Temperatura...\n",
            "Se Quente então joga\n",
            "Se Ameno então joga\n",
            "Se Fresco então joga\n",
            "Taxa de erro do atributo Temperatura =  0.35714285714285715\n"
          ]
        }
      ]
    },
    {
      "cell_type": "code",
      "source": [
        "print(\"Identificando as regras para o atributo Humidade...\")\n",
        "if tot_humidade_SIM[0] >= tot_humidade_NAO[0]:\n",
        "  print(\"Se Elevada então joga\")\n",
        "  tx_erro_humidade = tx_erro_humidade + tot_humidade_NAO[0]\n",
        "  regras_humidade = regras_humidade + \"Se Elevada joga;\"\n",
        "else:\n",
        "  print(\"Se Elevada então não joga\")\n",
        "  tx_erro_humidade = tx_erro_humidade + tot_humidade_SIM[0]\n",
        "  regras_humidade = regras_humidade + \"Se Elevada não joga;\"\n",
        "\n",
        "if tot_humidade_SIM[1] >= tot_humidade_NAO[1]:\n",
        "  print(\"Se Normal então joga\")\n",
        "  tx_erro_humidade = tx_erro_humidade + tot_humidade_NAO[1]\n",
        "  regras_humidade = regras_humidade + \"Se Normal joga;\"\n",
        "else:\n",
        "  print(\"Se Normal então não joga\")\n",
        "  tx_erro_humidade = tx_erro_humidade + tot_humidade_SIM[1]\n",
        "  regras_humidade = regras_humidade + \"Se Normal não joga;\"\n",
        "\n",
        "if tot_humidade_SIM[2] >= tot_humidade_NAO[2]:\n",
        "  print(\"Se Baixa então joga\")\n",
        "  tx_erro_humidade = tx_erro_humidade + tot_humidade_NAO[2]\n",
        "  regras_humidade = regras_humidade + \"Se Baixa joga;\"\n",
        "else:\n",
        "  print(\"Se Baixa então não joga\")\n",
        "  tx_erro_humidade = tx_erro_humidade + tot_humidade_SIM[2]\n",
        "  regras_humidade = regras_humidade + \"Se Baixa não joga;\"\n",
        "\n",
        "print(\"Taxa de erro do atributo Humidade = \", tx_erro_humidade/tot_exemplos)\n",
        "if tx_erro_humidade < tx_erro_menor:\n",
        "  tx_erro_menor = tx_erro_humidade\n",
        "  conjunto_regras = \"Humidade\""
      ],
      "metadata": {
        "colab": {
          "base_uri": "https://localhost:8080/"
        },
        "id": "znxTxh6NBBv_",
        "outputId": "26d28d2f-7442-4e41-b73f-266ca7cef03a"
      },
      "execution_count": 15,
      "outputs": [
        {
          "output_type": "stream",
          "name": "stdout",
          "text": [
            "Identificando as regras para o atributo Humidade...\n",
            "Se Elevada então não joga\n",
            "Se Normal então joga\n",
            "Se Baixa então joga\n",
            "Taxa de erro do atributo Humidade =  0.2857142857142857\n"
          ]
        }
      ]
    },
    {
      "cell_type": "code",
      "source": [
        "print(\"Identificando as regras para o atributo Vento...\")\n",
        "if tot_vento_SIM[0] >= tot_vento_NAO[0]:\n",
        "  print(\"Se Forte então joga\")\n",
        "  tx_erro_vento = tx_erro_vento + tot_vento_NAO[0]\n",
        "  regras_vento = regras_vento + \"Se Forte joga;\"\n",
        "else:\n",
        "  print(\"Se Forte então não joga\")\n",
        "  tx_erro_vento = tx_erro_vento + tot_vento_SIM[0]\n",
        "  regras_vento = regras_vento + \"Se Forte não joga;\"\n",
        "\n",
        "if tot_vento_SIM[1] >= tot_vento_NAO[1]:\n",
        "  print(\"Se Medio então joga\")\n",
        "  tx_erro_vento = tx_erro_vento + tot_vento_NAO[1]\n",
        "  regras_vento = regras_vento + \"Se Medio joga;\"\n",
        "else:\n",
        "  print(\"Se Medio então não joga\")\n",
        "  tx_erro_vento = tx_erro_vento + tot_vento_SIM[1]\n",
        "  regras_vento = regras_vento + \"Se Medio não joga;\"\n",
        "\n",
        "if tot_vento_SIM[2] >= tot_vento_NAO[2]:\n",
        "  print(\"Se Fraco então joga\")\n",
        "  tx_erro_vento = tx_erro_vento + tot_vento_NAO[2]\n",
        "  regras_vento = regras_vento + \"Se Fraco joga;\"\n",
        "else:\n",
        "  print(\"Se Fraco então não joga\")\n",
        "  tx_erro_vento = tx_erro_vento + tot_vento_SIM[2]\n",
        "  regras_vento = regras_vento + \"Se Fraco não joga;\"\n",
        "\n",
        "print(\"Taxa de erro do atributo Vento = \", tx_erro_vento/tot_exemplos)\n",
        "if tx_erro_vento < tx_erro_menor:\n",
        "  tx_erro_menor = tx_erro_vento\n",
        "  conjunto_regras = \"Vento\""
      ],
      "metadata": {
        "colab": {
          "base_uri": "https://localhost:8080/"
        },
        "id": "z0IB8r9bCuLa",
        "outputId": "d9e6d66d-ca47-45b5-d7d5-122e90281451"
      },
      "execution_count": 16,
      "outputs": [
        {
          "output_type": "stream",
          "name": "stdout",
          "text": [
            "Identificando as regras para o atributo Vento...\n",
            "Se Forte então joga\n",
            "Se Medio então joga\n",
            "Se Fraco então joga\n",
            "Taxa de erro do atributo Vento =  0.35714285714285715\n"
          ]
        }
      ]
    },
    {
      "cell_type": "code",
      "source": [
        "print(\"Encontrando a menor taxa de erro...\")\n",
        "print(\"Menor taxa de erro = \",tx_erro_menor)\n",
        "print(\"Conjunto de regras = \",conjunto_regras)\n",
        "if conjunto_regras == \"Aspecto\":\n",
        "  print(\"Regras = \",regras_aspecto)\n",
        "if conjunto_regras == \"Temperatura\":\n",
        "  print(\"Regras = \",regras_temperatura)\n",
        "if conjunto_regras == \"Humidade\":\n",
        "  print(\"Regras = \",regras_humidade)\n",
        "if conjunto_regras == \"Vento\":\n",
        "  print(\"Regras = \",regras_vento)"
      ],
      "metadata": {
        "colab": {
          "base_uri": "https://localhost:8080/"
        },
        "id": "nvCVKQEbDrMH",
        "outputId": "e48f1d2e-2967-425b-e26d-c8d9de6f6d4f"
      },
      "execution_count": 17,
      "outputs": [
        {
          "output_type": "stream",
          "name": "stdout",
          "text": [
            "Encontrando a menor taxa de erro...\n",
            "Menor taxa de erro =  4\n",
            "Conjunto de regras =  Aspecto\n",
            "Regras =  Se Sol então Não Joga;Se Nuvens então Joga;Se Chuva então Joga;\n"
          ]
        }
      ]
    }
  ]
}